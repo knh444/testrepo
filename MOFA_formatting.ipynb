{
 "cells": [
  {
   "cell_type": "code",
   "execution_count": 1,
   "id": "07a1592b-58d1-4c8b-a4a7-be7fb32365b9",
   "metadata": {},
   "outputs": [
    {
     "name": "stdout",
     "output_type": "stream",
     "text": [
      "Defaulting to user installation because normal site-packages is not writeable\n",
      "Looking in links: /usr/share/pip-wheels\n",
      "Requirement already satisfied: pandas in /opt/conda/envs/anaconda-panel-2023.05-py310/lib/python3.11/site-packages (2.0.3)\n",
      "Requirement already satisfied: python-dateutil>=2.8.2 in /opt/conda/envs/anaconda-panel-2023.05-py310/lib/python3.11/site-packages (from pandas) (2.8.2)\n",
      "Requirement already satisfied: pytz>=2020.1 in /opt/conda/envs/anaconda-panel-2023.05-py310/lib/python3.11/site-packages (from pandas) (2023.3.post1)\n",
      "Requirement already satisfied: tzdata>=2022.1 in /opt/conda/envs/anaconda-panel-2023.05-py310/lib/python3.11/site-packages (from pandas) (2023.3)\n",
      "Requirement already satisfied: numpy>=1.21.0 in /opt/conda/envs/anaconda-panel-2023.05-py310/lib/python3.11/site-packages (from pandas) (1.24.3)\n",
      "Requirement already satisfied: six>=1.5 in /opt/conda/envs/anaconda-panel-2023.05-py310/lib/python3.11/site-packages (from python-dateutil>=2.8.2->pandas) (1.16.0)\n",
      "Note: you may need to restart the kernel to use updated packages.\n"
     ]
    }
   ],
   "source": [
    "pip install pandas"
   ]
  },
  {
   "cell_type": "code",
   "execution_count": 38,
   "id": "4116ea24-d907-4439-b884-bfb3138c21cf",
   "metadata": {},
   "outputs": [
    {
     "name": "stdout",
     "output_type": "stream",
     "text": [
      "Transformation completed. Output saved to 2023development_output.txt\n"
     ]
    }
   ],
   "source": [
    "import pandas as pd\n",
    "import re\n",
    "import csv\n",
    "\n",
    "# Replace 'your_input_file.xlsx' with the actual path to your Excel file\n",
    "excel_file_path = r'2023development.xlsx'\n",
    "\n",
    "# Read the Excel file into a DataFrame\n",
    "df = pd.read_excel(excel_file_path, header=None)\n",
    "\n",
    "# Define a function to transform the content\n",
    "def transform_format(row):\n",
    "    return f\"{row[0]} {row[1]} [{row[2]} ({row[3]})]\"\n",
    "\n",
    "# Apply the transformation function to each row\n",
    "df['transformed'] = df.apply(transform_format, axis=1)\n",
    "\n",
    "# Replace 'your_output_file.txt' with the desired output text file path\n",
    "output_file_path = r'2023development_output.txt'\n",
    "\n",
    "# Write the transformed content to a text file without quotation marks\n",
    "df['transformed'].to_csv(output_file_path, index=False, header=False, quoting=csv.QUOTE_NONE, escapechar='\\\\')\n",
    "\n",
    "def remove_time_strings(file_path):\n",
    "    # Read the contents of the file\n",
    "    with open(file_path, 'r', encoding='utf-8') as file:\n",
    "        file_contents = file.read()\n",
    "\n",
    "    # Define the regex pattern for matching time strings (hh:mm:ss)\n",
    "    time_pattern = re.compile(r'\\b\\d{2}:\\d{2}:\\d{2}\\b')\n",
    "\n",
    "    # Replace time strings with an empty string\n",
    "    modified_contents = re.sub(time_pattern, '', file_contents)\n",
    "\n",
    "    # Write the modified contents back to the file\n",
    "    with open(file_path, 'w', encoding='utf-8') as file:\n",
    "        file.write(modified_contents)\n",
    "\n",
    "# Use the correct file path for input_file_path\n",
    "remove_time_strings(output_file_path)\n",
    "\n",
    "def remove_blank(file_path):\n",
    "    # Read the contents of the file\n",
    "    with open(file_path, 'r', encoding='utf-8') as file:\n",
    "        file_contents = file.read()\n",
    "\n",
    "    # Replace the substring \" )\" with \")\"\n",
    "    modified_contents2 = file_contents.replace(\" )\", \")\")\n",
    "\n",
    "    # Write the modified contents back to the file\n",
    "    with open(file_path, 'w', encoding='utf-8') as file:\n",
    "        file.write(modified_contents2)\n",
    "\n",
    "# Use the correct function call for remove_blank\n",
    "remove_blank(output_file_path)\n",
    "\n",
    "print(f\"Transformation completed. Output saved to {output_file_path}\")"
   ]
  },
  {
   "cell_type": "code",
   "execution_count": null,
   "id": "1fada35b-bbfc-47c1-ad12-b423a1c23d5f",
   "metadata": {},
   "outputs": [],
   "source": []
  }
 ],
 "metadata": {
  "kernelspec": {
   "display_name": "anaconda-panel-2023.05-py310",
   "language": "python",
   "name": "conda-env-anaconda-panel-2023.05-py310-py"
  },
  "language_info": {
   "codemirror_mode": {
    "name": "ipython",
    "version": 3
   },
   "file_extension": ".py",
   "mimetype": "text/x-python",
   "name": "python",
   "nbconvert_exporter": "python",
   "pygments_lexer": "ipython3",
   "version": "3.11.5"
  }
 },
 "nbformat": 4,
 "nbformat_minor": 5
}
